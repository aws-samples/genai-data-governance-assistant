{
 "cells": [
  {
   "cell_type": "markdown",
   "id": "0967c15f-924b-42a3-9d2f-03ccb64fcaac",
   "metadata": {},
   "source": [
    "## Load configuration\n",
    "\n",
    "    Copyright Amazon.com, Inc. or its affiliates. All Rights Reserved.\n",
    "    SPDX-License-Identifier: MIT-0"
   ]
  },
  {
   "cell_type": "markdown",
   "id": "995f540a",
   "metadata": {},
   "source": [
    "The configuration file should be in this format:\n",
    "\n",
    "    neptune:\n",
    "        endpoint: YOUR-NEPTUNE-ENDPOINT\n",
    "\n",
    "Do not submit this file to version control."
   ]
  },
  {
   "cell_type": "code",
   "execution_count": 1,
   "id": "5aae4c10",
   "metadata": {
    "tags": []
   },
   "outputs": [],
   "source": [
    "import yaml\n",
    "config = yaml.safe_load(open(\"config.yaml\"))"
   ]
  },
  {
   "cell_type": "code",
   "execution_count": 2,
   "id": "3611bd3c",
   "metadata": {
    "tags": []
   },
   "outputs": [
    {
     "data": {
      "text/plain": [
       "{'status': 'healthy',\n",
       " 'startTime': 'Fri Apr 12 16:12:56 UTC 2024',\n",
       " 'dbEngineVersion': '1.3.1.0.R1',\n",
       " 'role': 'writer',\n",
       " 'dfeQueryEngine': 'viaQueryHint',\n",
       " 'gremlin': {'version': 'tinkerpop-3.6.4'},\n",
       " 'sparql': {'version': 'sparql-1.1'},\n",
       " 'opencypher': {'version': 'Neptune-9.0.20190305-1.0'},\n",
       " 'labMode': {'ObjectIndex': 'disabled',\n",
       "  'ReadWriteConflictDetection': 'enabled'},\n",
       " 'features': {'SlowQueryLogs': 'disabled',\n",
       "  'ResultCache': {'status': 'disabled'},\n",
       "  'IAMAuthentication': 'disabled',\n",
       "  'Streams': 'disabled',\n",
       "  'AuditLog': 'disabled'},\n",
       " 'settings': {'clusterQueryTimeoutInMs': '120000',\n",
       "  'SlowQueryLogsThreshold': '5000'},\n",
       " 'serverlessConfiguration': {'minCapacity': '1.0', 'maxCapacity': '128.0'}}"
      ]
     },
     "execution_count": 2,
     "metadata": {},
     "output_type": "execute_result"
    }
   ],
   "source": [
    "%status"
   ]
  },
  {
   "cell_type": "markdown",
   "id": "d0f78790-f8de-48a3-9c08-c0e3a50d09cf",
   "metadata": {},
   "source": [
    "## Prereqs"
   ]
  },
  {
   "cell_type": "markdown",
   "id": "e5a5a401",
   "metadata": {},
   "source": [
    "Restart the kernel after running this line."
   ]
  },
  {
   "cell_type": "code",
   "execution_count": null,
   "id": "ebcb7d4d",
   "metadata": {
    "tags": []
   },
   "outputs": [],
   "source": [
    "%pip install --upgrade --quiet boto3 botocore langchain datasets neo4j"
   ]
  },
  {
   "cell_type": "markdown",
   "id": "14063250-dddc-44d3-b311-07f67a091c69",
   "metadata": {},
   "source": [
    "## Populate graph"
   ]
  },
  {
   "cell_type": "code",
   "execution_count": 3,
   "id": "837fda92",
   "metadata": {
    "tags": []
   },
   "outputs": [],
   "source": [
    "import boto3\n",
    "dzclient = boto3.client('datazone')"
   ]
  },
  {
   "cell_type": "code",
   "execution_count": 4,
   "id": "d61f3372",
   "metadata": {
    "tags": []
   },
   "outputs": [],
   "source": [
    "domainId = 'ENTER YOUR DOMAIN ID HERE'"
   ]
  },
  {
   "cell_type": "markdown",
   "id": "bc801598-0b99-4360-8062-c94e3b8e0525",
   "metadata": {},
   "source": [
    "### Projects"
   ]
  },
  {
   "cell_type": "code",
   "execution_count": 5,
   "id": "e087f71e",
   "metadata": {
    "tags": []
   },
   "outputs": [],
   "source": [
    "response = dzclient.list_projects(\n",
    "    domainIdentifier=domainId\n",
    ")"
   ]
  },
  {
   "cell_type": "code",
   "execution_count": 6,
   "id": "ff759245",
   "metadata": {
    "tags": []
   },
   "outputs": [],
   "source": [
    "projects = {}\n",
    "for item in response['items']:\n",
    "    projects[item['id']] = item['name']"
   ]
  },
  {
   "cell_type": "code",
   "execution_count": 7,
   "id": "8f9b6ac5",
   "metadata": {
    "tags": []
   },
   "outputs": [
    {
     "data": {
      "text/plain": [
       "{'6m5dcvzlipijkg': 'Underwriting',\n",
       " 'cy7ls2lfj0oxsg': 'Marketing',\n",
       " 'aj0r6a9dx7m2kw': 'Claims',\n",
       " 'bewpdtw9ctp8gg': 'Admin'}"
      ]
     },
     "execution_count": 7,
     "metadata": {},
     "output_type": "execute_result"
    }
   ],
   "source": [
    "projects"
   ]
  },
  {
   "cell_type": "markdown",
   "id": "4c81b484",
   "metadata": {},
   "source": [
    "In the next cell, the authentication parameters are not used."
   ]
  },
  {
   "cell_type": "code",
   "execution_count": 8,
   "id": "3ceb70ea",
   "metadata": {
    "tags": []
   },
   "outputs": [
    {
     "name": "stdout",
     "output_type": "stream",
     "text": [
      "Query: MERGE (:Project {name: 'Underwriting'})\n",
      "Query: MERGE (:Project {name: 'Marketing'})\n",
      "Query: MERGE (:Project {name: 'Claims'})\n",
      "Query: MERGE (:Project {name: 'Admin'})\n"
     ]
    }
   ],
   "source": [
    "from neo4j import GraphDatabase\n",
    "uri = f\"bolt://{config['neptune']['endpoint']}:8182\"\n",
    "with GraphDatabase.driver(uri, auth=(\"username\", \"password\"), encrypted=True) as gdriver:\n",
    "    for p in projects.keys():\n",
    "        nprops = {'name': projects[p]}\n",
    "        propstr = []\n",
    "        for p in nprops.keys():\n",
    "            propstr.append(f\"{p}: '{nprops[p]}'\")\n",
    "        q = \"MERGE (:Project {\" + \",\".join(propstr) + \"})\"\n",
    "        print(f\"Query: {q}\")\n",
    "        gdriver.execute_query(q)"
   ]
  },
  {
   "cell_type": "code",
   "execution_count": 30,
   "id": "5bce302a-fcee-470a-8bb7-2ca6998cc457",
   "metadata": {
    "tags": []
   },
   "outputs": [
    {
     "data": {
      "application/vnd.jupyter.widget-view+json": {
       "model_id": "ea50850a507449cb9a4fbe0eec57c02f",
       "version_major": 2,
       "version_minor": 0
      },
      "text/plain": [
       "Tab(children=(Output(layout=Layout(max_height='600px', max_width='940px', overflow='scroll')), Force(network=<…"
      ]
     },
     "metadata": {},
     "output_type": "display_data"
    }
   ],
   "source": [
    "%%gremlin -p v\n",
    "g.V().path()"
   ]
  },
  {
   "cell_type": "markdown",
   "id": "ca15d11b-8ef3-48ac-bf9c-766e7d8e3336",
   "metadata": {},
   "source": [
    "### Insert assets"
   ]
  },
  {
   "cell_type": "code",
   "execution_count": 18,
   "id": "a60653be-b69a-46d5-a6aa-e3a229f1cd38",
   "metadata": {
    "tags": []
   },
   "outputs": [],
   "source": [
    "response = dzclient.search_listings(\n",
    "    domainIdentifier=domainId\n",
    ")"
   ]
  },
  {
   "cell_type": "code",
   "execution_count": 19,
   "id": "ec5140df-9469-4a66-86b8-334ef88d2217",
   "metadata": {
    "tags": []
   },
   "outputs": [
    {
     "data": {
      "text/plain": [
       "{'assetListing': {'createdAt': datetime.datetime(2024, 4, 12, 16, 18, 54, 207000, tzinfo=tzlocal()),\n",
       "  'description': 'Custom asset 9 for asset type JohnMarketingAssetType and form JohnMarketingFormType',\n",
       "  'entityId': '4d7ht4aw373spc',\n",
       "  'entityRevision': '1',\n",
       "  'entityType': 'JohnMarketingAssetType',\n",
       "  'glossaryTerms': [],\n",
       "  'listingCreatedBy': 'bf12f32a-d85b-4bcd-b330-b57064416d32',\n",
       "  'listingId': 'ag59yujxqem4nk',\n",
       "  'listingRevision': '2',\n",
       "  'listingUpdatedBy': 'bf12f32a-d85b-4bcd-b330-b57064416d32',\n",
       "  'name': 'JohnMarketingAssetType9',\n",
       "  'owningProjectId': 'cy7ls2lfj0oxsg'}}"
      ]
     },
     "execution_count": 19,
     "metadata": {},
     "output_type": "execute_result"
    }
   ],
   "source": [
    "response['items'][0]"
   ]
  },
  {
   "cell_type": "code",
   "execution_count": 20,
   "id": "03db4cf7-3af3-4599-9b8e-95176e7c4eba",
   "metadata": {
    "tags": []
   },
   "outputs": [],
   "source": [
    "assets = []\n",
    "asset_types = []\n",
    "for r in response['items']:\n",
    "    item = r['assetListing']\n",
    "    try:\n",
    "        assets.append({\n",
    "            'name': item['name'],\n",
    "            'project': item['owningProjectId'],\n",
    "            'listingId': item['listingId'],\n",
    "            'assetType': item['entityType'],\n",
    "            'assetId': item['entityId'],\n",
    "            'description': item['description']\n",
    "        })\n",
    "        if item['entityType'] not in asset_types:\n",
    "            asset_types.append(item['entityType'])\n",
    "    except:\n",
    "        pass"
   ]
  },
  {
   "cell_type": "code",
   "execution_count": 21,
   "id": "c1e01c4d-cac3-494c-95cc-7123f2b4c44d",
   "metadata": {
    "tags": []
   },
   "outputs": [
    {
     "data": {
      "text/plain": [
       "{'name': 'JohnMarketingAssetType9',\n",
       " 'project': 'cy7ls2lfj0oxsg',\n",
       " 'listingId': 'ag59yujxqem4nk',\n",
       " 'assetType': 'JohnMarketingAssetType',\n",
       " 'assetId': '4d7ht4aw373spc',\n",
       " 'description': 'Custom asset 9 for asset type JohnMarketingAssetType and form JohnMarketingFormType'}"
      ]
     },
     "execution_count": 21,
     "metadata": {},
     "output_type": "execute_result"
    }
   ],
   "source": [
    "assets[0]"
   ]
  },
  {
   "cell_type": "code",
   "execution_count": 23,
   "id": "5ec644ea-ca8b-4856-afde-4e25c7fafa04",
   "metadata": {
    "tags": []
   },
   "outputs": [
    {
     "data": {
      "text/plain": [
       "'Marketing'"
      ]
     },
     "execution_count": 23,
     "metadata": {},
     "output_type": "execute_result"
    }
   ],
   "source": [
    "projects[assets[0]['project']]"
   ]
  },
  {
   "cell_type": "code",
   "execution_count": 26,
   "id": "a1c50de5-b3b6-489b-ad83-085531f5762a",
   "metadata": {
    "collapsed": true,
    "jupyter": {
     "outputs_hidden": true
    },
    "tags": []
   },
   "outputs": [
    {
     "name": "stdout",
     "output_type": "stream",
     "text": [
      "Query: MERGE (:Asset {name: 'JohnMarketingAssetType9',project: 'cy7ls2lfj0oxsg',listingId: 'ag59yujxqem4nk',assetType: 'JohnMarketingAssetType',assetId: '4d7ht4aw373spc',description: 'Custom asset 9 for asset type JohnMarketingAssetType and form JohnMarketingFormType'})\n",
      "Query: MATCH (p:Project {name: 'Marketing'}), (a:Asset {name: 'JohnMarketingAssetType9'}) CREATE (p)-[:producer {role: 'producer'}]->(a)\n",
      "Query: MERGE (:Asset {name: 'JohnMarketingAssetType8',project: 'cy7ls2lfj0oxsg',listingId: 'az4k2f4ii70tjk',assetType: 'JohnMarketingAssetType',assetId: '4w561m1p2lrseo',description: 'Custom asset 8 for asset type JohnMarketingAssetType and form JohnMarketingFormType'})\n",
      "Query: MATCH (p:Project {name: 'Marketing'}), (a:Asset {name: 'JohnMarketingAssetType8'}) CREATE (p)-[:producer {role: 'producer'}]->(a)\n",
      "Query: MERGE (:Asset {name: 'JohnMarketingAssetType7',project: 'cy7ls2lfj0oxsg',listingId: '3hyfe8n2hd82a8',assetType: 'JohnMarketingAssetType',assetId: 'd0zidga50p6vio',description: 'Custom asset 7 for asset type JohnMarketingAssetType and form JohnMarketingFormType'})\n",
      "Query: MATCH (p:Project {name: 'Marketing'}), (a:Asset {name: 'JohnMarketingAssetType7'}) CREATE (p)-[:producer {role: 'producer'}]->(a)\n",
      "Query: MERGE (:Asset {name: 'JohnMarketingAssetType6',project: 'cy7ls2lfj0oxsg',listingId: 'djun30ynp2w6ts',assetType: 'JohnMarketingAssetType',assetId: 'do39wa5j2nbfo0',description: 'Custom asset 6 for asset type JohnMarketingAssetType and form JohnMarketingFormType'})\n",
      "Query: MATCH (p:Project {name: 'Marketing'}), (a:Asset {name: 'JohnMarketingAssetType6'}) CREATE (p)-[:producer {role: 'producer'}]->(a)\n",
      "Query: MERGE (:Asset {name: 'JohnMarketingAssetType5',project: 'cy7ls2lfj0oxsg',listingId: 'b2hmp8ed8ajor4',assetType: 'JohnMarketingAssetType',assetId: 'd6pqv7l87j8j68',description: 'Custom asset 5 for asset type JohnMarketingAssetType and form JohnMarketingFormType'})\n",
      "Query: MATCH (p:Project {name: 'Marketing'}), (a:Asset {name: 'JohnMarketingAssetType5'}) CREATE (p)-[:producer {role: 'producer'}]->(a)\n",
      "Query: MERGE (:Asset {name: 'JohnMarketingAssetType4',project: 'cy7ls2lfj0oxsg',listingId: 'dqd3lo47sc4c9c',assetType: 'JohnMarketingAssetType',assetId: 'd7pt13zbvmsm8g',description: 'Custom asset 4 for asset type JohnMarketingAssetType and form JohnMarketingFormType'})\n",
      "Query: MATCH (p:Project {name: 'Marketing'}), (a:Asset {name: 'JohnMarketingAssetType4'}) CREATE (p)-[:producer {role: 'producer'}]->(a)\n",
      "Query: MERGE (:Asset {name: 'JohnMarketingAssetType3',project: 'cy7ls2lfj0oxsg',listingId: 'dkiq13atqav53k',assetType: 'JohnMarketingAssetType',assetId: 'bwscxps9dzqcuo',description: 'Custom asset 3 for asset type JohnMarketingAssetType and form JohnMarketingFormType'})\n",
      "Query: MATCH (p:Project {name: 'Marketing'}), (a:Asset {name: 'JohnMarketingAssetType3'}) CREATE (p)-[:producer {role: 'producer'}]->(a)\n",
      "Query: MERGE (:Asset {name: 'JohnMarketingAssetType2',project: 'cy7ls2lfj0oxsg',listingId: 'c2c6bf2e1510r4',assetType: 'JohnMarketingAssetType',assetId: 'cubnh3vgh7fpqo',description: 'Custom asset 2 for asset type JohnMarketingAssetType and form JohnMarketingFormType'})\n",
      "Query: MATCH (p:Project {name: 'Marketing'}), (a:Asset {name: 'JohnMarketingAssetType2'}) CREATE (p)-[:producer {role: 'producer'}]->(a)\n",
      "Query: MERGE (:Asset {name: 'JohnMarketingAssetType1',project: 'cy7ls2lfj0oxsg',listingId: '4y8pq6o3l0llow',assetType: 'JohnMarketingAssetType',assetId: '3xcwudl1n7c9lc',description: 'Custom asset 1 for asset type JohnMarketingAssetType and form JohnMarketingFormType'})\n",
      "Query: MATCH (p:Project {name: 'Marketing'}), (a:Asset {name: 'JohnMarketingAssetType1'}) CREATE (p)-[:producer {role: 'producer'}]->(a)\n",
      "Query: MERGE (:Asset {name: 'JohnMarketingAssetType0',project: 'cy7ls2lfj0oxsg',listingId: 'do2s0kr4s03g5s',assetType: 'JohnMarketingAssetType',assetId: 'btqqcemx9d0u8g',description: 'Custom asset 0 for asset type JohnMarketingAssetType and form JohnMarketingFormType'})\n",
      "Query: MATCH (p:Project {name: 'Marketing'}), (a:Asset {name: 'JohnMarketingAssetType0'}) CREATE (p)-[:producer {role: 'producer'}]->(a)\n",
      "Query: MERGE (:Asset {name: 'EmmaEngineeringAssetType9',project: 'cy7ls2lfj0oxsg',listingId: 'c3igbbkiudaf80',assetType: 'EmmaEngineeringAssetType',assetId: '5gtmg2b691kr2o',description: 'Custom asset 9 for asset type EmmaEngineeringAssetType and form EmmaEngineeringFormType'})\n",
      "Query: MATCH (p:Project {name: 'Marketing'}), (a:Asset {name: 'EmmaEngineeringAssetType9'}) CREATE (p)-[:producer {role: 'producer'}]->(a)\n",
      "Query: MERGE (:Asset {name: 'EmmaEngineeringAssetType8',project: 'cy7ls2lfj0oxsg',listingId: '47dssggg4drrww',assetType: 'EmmaEngineeringAssetType',assetId: '3lz5wl9zbeyvww',description: 'Custom asset 8 for asset type EmmaEngineeringAssetType and form EmmaEngineeringFormType'})\n",
      "Query: MATCH (p:Project {name: 'Marketing'}), (a:Asset {name: 'EmmaEngineeringAssetType8'}) CREATE (p)-[:producer {role: 'producer'}]->(a)\n",
      "Query: MERGE (:Asset {name: 'EmmaEngineeringAssetType7',project: 'cy7ls2lfj0oxsg',listingId: '6nrihu26j1zits',assetType: 'EmmaEngineeringAssetType',assetId: 'bj3xau4sjffp8w',description: 'Custom asset 7 for asset type EmmaEngineeringAssetType and form EmmaEngineeringFormType'})\n",
      "Query: MATCH (p:Project {name: 'Marketing'}), (a:Asset {name: 'EmmaEngineeringAssetType7'}) CREATE (p)-[:producer {role: 'producer'}]->(a)\n",
      "Query: MERGE (:Asset {name: 'EmmaEngineeringAssetType6',project: 'cy7ls2lfj0oxsg',listingId: '44j3da5hww2weo',assetType: 'EmmaEngineeringAssetType',assetId: 'blsqr4rub7l440',description: 'Custom asset 6 for asset type EmmaEngineeringAssetType and form EmmaEngineeringFormType'})\n",
      "Query: MATCH (p:Project {name: 'Marketing'}), (a:Asset {name: 'EmmaEngineeringAssetType6'}) CREATE (p)-[:producer {role: 'producer'}]->(a)\n",
      "Query: MERGE (:Asset {name: 'EmmaEngineeringAssetType5',project: 'cy7ls2lfj0oxsg',listingId: 'cpzmxtz85wvkpc',assetType: 'EmmaEngineeringAssetType',assetId: 'dg2ahr5vh9wzkg',description: 'Custom asset 5 for asset type EmmaEngineeringAssetType and form EmmaEngineeringFormType'})\n",
      "Query: MATCH (p:Project {name: 'Marketing'}), (a:Asset {name: 'EmmaEngineeringAssetType5'}) CREATE (p)-[:producer {role: 'producer'}]->(a)\n",
      "Query: MERGE (:Asset {name: 'EmmaEngineeringAssetType4',project: 'cy7ls2lfj0oxsg',listingId: 'b3dqdb4c97721c',assetType: 'EmmaEngineeringAssetType',assetId: 'cd5fphuqydwec0',description: 'Custom asset 4 for asset type EmmaEngineeringAssetType and form EmmaEngineeringFormType'})\n",
      "Query: MATCH (p:Project {name: 'Marketing'}), (a:Asset {name: 'EmmaEngineeringAssetType4'}) CREATE (p)-[:producer {role: 'producer'}]->(a)\n",
      "Query: MERGE (:Asset {name: 'EmmaEngineeringAssetType3',project: 'cy7ls2lfj0oxsg',listingId: '6ogu6o8e8mo5u8',assetType: 'EmmaEngineeringAssetType',assetId: '3n2q59598vlle8',description: 'Custom asset 3 for asset type EmmaEngineeringAssetType and form EmmaEngineeringFormType'})\n",
      "Query: MATCH (p:Project {name: 'Marketing'}), (a:Asset {name: 'EmmaEngineeringAssetType3'}) CREATE (p)-[:producer {role: 'producer'}]->(a)\n",
      "Query: MERGE (:Asset {name: 'EmmaEngineeringAssetType2',project: 'cy7ls2lfj0oxsg',listingId: '4lzlsallokfukw',assetType: 'EmmaEngineeringAssetType',assetId: '3wc760zczvzllc',description: 'Custom asset 2 for asset type EmmaEngineeringAssetType and form EmmaEngineeringFormType'})\n",
      "Query: MATCH (p:Project {name: 'Marketing'}), (a:Asset {name: 'EmmaEngineeringAssetType2'}) CREATE (p)-[:producer {role: 'producer'}]->(a)\n",
      "Query: MERGE (:Asset {name: 'EmmaEngineeringAssetType1',project: 'cy7ls2lfj0oxsg',listingId: '5k2cwfb50bw4gg',assetType: 'EmmaEngineeringAssetType',assetId: 'bwgk8at6k2lxjk',description: 'Custom asset 1 for asset type EmmaEngineeringAssetType and form EmmaEngineeringFormType'})\n",
      "Query: MATCH (p:Project {name: 'Marketing'}), (a:Asset {name: 'EmmaEngineeringAssetType1'}) CREATE (p)-[:producer {role: 'producer'}]->(a)\n",
      "Query: MERGE (:Asset {name: 'EmmaEngineeringAssetType0',project: 'cy7ls2lfj0oxsg',listingId: '3w2t1ytdzlsbkg',assetType: 'EmmaEngineeringAssetType',assetId: '4w54m87pdp1x8w',description: 'Custom asset 0 for asset type EmmaEngineeringAssetType and form EmmaEngineeringFormType'})\n",
      "Query: MATCH (p:Project {name: 'Marketing'}), (a:Asset {name: 'EmmaEngineeringAssetType0'}) CREATE (p)-[:producer {role: 'producer'}]->(a)\n",
      "Query: MERGE (:Asset {name: 'ShawnaMarketingAssetType9',project: 'cy7ls2lfj0oxsg',listingId: 'atypkx35bisumo',assetType: 'ShawnaMarketingAssetType',assetId: '5cuyd8kcp6qf80',description: 'Custom asset 9 for asset type ShawnaMarketingAssetType and form ShawnaMarketingFormType'})\n",
      "Query: MATCH (p:Project {name: 'Marketing'}), (a:Asset {name: 'ShawnaMarketingAssetType9'}) CREATE (p)-[:producer {role: 'producer'}]->(a)\n",
      "Query: MERGE (:Asset {name: 'ShawnaMarketingAssetType8',project: 'cy7ls2lfj0oxsg',listingId: 'b5v8iuna82598w',assetType: 'ShawnaMarketingAssetType',assetId: 'cjdhqli5c6wqz4',description: 'Custom asset 8 for asset type ShawnaMarketingAssetType and form ShawnaMarketingFormType'})\n",
      "Query: MATCH (p:Project {name: 'Marketing'}), (a:Asset {name: 'ShawnaMarketingAssetType8'}) CREATE (p)-[:producer {role: 'producer'}]->(a)\n",
      "Query: MERGE (:Asset {name: 'ShawnaMarketingAssetType7',project: 'cy7ls2lfj0oxsg',listingId: 'd4ugqe99vzakgg',assetType: 'ShawnaMarketingAssetType',assetId: '44rj92oxwaolg0',description: 'Custom asset 7 for asset type ShawnaMarketingAssetType and form ShawnaMarketingFormType'})\n",
      "Query: MATCH (p:Project {name: 'Marketing'}), (a:Asset {name: 'ShawnaMarketingAssetType7'}) CREATE (p)-[:producer {role: 'producer'}]->(a)\n",
      "Query: MERGE (:Asset {name: 'ShawnaMarketingAssetType6',project: 'cy7ls2lfj0oxsg',listingId: 'cpu6oc758xs00g',assetType: 'ShawnaMarketingAssetType',assetId: 'c958jfn8svyl5c',description: 'Custom asset 6 for asset type ShawnaMarketingAssetType and form ShawnaMarketingFormType'})\n",
      "Query: MATCH (p:Project {name: 'Marketing'}), (a:Asset {name: 'ShawnaMarketingAssetType6'}) CREATE (p)-[:producer {role: 'producer'}]->(a)\n",
      "Query: MERGE (:Asset {name: 'ShawnaMarketingAssetType5',project: 'cy7ls2lfj0oxsg',listingId: '5fn2c3h4yp8n0w',assetType: 'ShawnaMarketingAssetType',assetId: '3i1hjxj6sbtle8',description: 'Custom asset 5 for asset type ShawnaMarketingAssetType and form ShawnaMarketingFormType'})\n",
      "Query: MATCH (p:Project {name: 'Marketing'}), (a:Asset {name: 'ShawnaMarketingAssetType5'}) CREATE (p)-[:producer {role: 'producer'}]->(a)\n"
     ]
    }
   ],
   "source": [
    "with GraphDatabase.driver(uri, auth=(\"username\", \"password\"), encrypted=True) as gdriver:\n",
    "    for a in assets:\n",
    "        propstr = []\n",
    "        for p in a.keys():\n",
    "            propstr.append(f\"{p}: '{a[p]}'\")\n",
    "        q = \"MERGE (:Asset {\" + \",\".join(propstr) + \"})\"\n",
    "        print(f\"Query: {q}\")\n",
    "        gdriver.execute_query(q)\n",
    "        \n",
    "        proj_name = projects[a['project']]\n",
    "        propstr = [\"role: 'producer'\"]\n",
    "        q = \"MATCH (p:Project {name: '\" + proj_name + \"'}), (a:Asset {name: '\" + a['name'] + \"'}) \" + \\\n",
    "        \"CREATE (p)-[:producer {\" + \",\".join(propstr) + \"}]->(a)\"\n",
    "        print(f\"Query: {q}\")\n",
    "        gdriver.execute_query(q)"
   ]
  },
  {
   "cell_type": "code",
   "execution_count": 36,
   "id": "7a71e0c3-951f-453a-b427-f5c4359b4244",
   "metadata": {
    "tags": []
   },
   "outputs": [
    {
     "data": {
      "application/vnd.jupyter.widget-view+json": {
       "model_id": "6ff3f95719074779a222eaab18ca8c35",
       "version_major": 2,
       "version_minor": 0
      },
      "text/plain": [
       "Tab(children=(Output(layout=Layout(max_height='600px', max_width='940px', overflow='scroll')), Force(network=<…"
      ]
     },
     "metadata": {},
     "output_type": "display_data"
    }
   ],
   "source": [
    "%%gremlin -p v,e\n",
    "g.V().outE().inV().path()"
   ]
  },
  {
   "cell_type": "markdown",
   "id": "1fe27df0-a925-4e06-b468-56bf18cca376",
   "metadata": {},
   "source": [
    "### Subscriptions"
   ]
  },
  {
   "cell_type": "code",
   "execution_count": 46,
   "id": "401e8f04-a4fc-4e89-ae3f-88421cee28af",
   "metadata": {
    "tags": []
   },
   "outputs": [],
   "source": [
    "subs = []\n",
    "for p in projects.keys():\n",
    "    response = dzclient.list_subscription_requests(\n",
    "        domainIdentifier=domainId,\n",
    "        owningProjectId=p\n",
    "    )\n",
    "    \n",
    "    for item in response['items']:\n",
    "        subs.append({\n",
    "            'comment': item['decisionComment'],\n",
    "            'id': item['id'],\n",
    "            'reason': item['requestReason'],\n",
    "            'status': item['status'],\n",
    "            'listingId': item['subscribedListings'][0]['id'],\n",
    "            'assetId': item['subscribedListings'][0]['item']['assetListing']['entityId'],\n",
    "            'project': item['subscribedListings'][0]['ownerProjectId'],\n",
    "            'subproject': item['subscribedPrincipals'][0]['project']['id']\n",
    "        })"
   ]
  },
  {
   "cell_type": "code",
   "execution_count": 47,
   "id": "5f46df19-1037-4cb8-8f54-7506e1fa5138",
   "metadata": {
    "tags": []
   },
   "outputs": [
    {
     "data": {
      "text/plain": [
       "90"
      ]
     },
     "execution_count": 47,
     "metadata": {},
     "output_type": "execute_result"
    }
   ],
   "source": [
    "len(subs)"
   ]
  },
  {
   "cell_type": "code",
   "execution_count": 48,
   "id": "9974b2da-29e3-4ed7-9def-d856e83d88a2",
   "metadata": {
    "tags": []
   },
   "outputs": [
    {
     "data": {
      "text/plain": [
       "{'comment': 'optimize scalable paradigms',\n",
       " 'id': '55gvrbzpl9c9w0',\n",
       " 'reason': 'empower bleeding-edge vortals',\n",
       " 'status': 'REJECTED',\n",
       " 'listingId': '44649ilew9wo40',\n",
       " 'assetId': '4z8tuhezo5ij68',\n",
       " 'project': 'aj0r6a9dx7m2kw',\n",
       " 'subproject': '6m5dcvzlipijkg'}"
      ]
     },
     "execution_count": 48,
     "metadata": {},
     "output_type": "execute_result"
    }
   ],
   "source": [
    "subs[0]"
   ]
  },
  {
   "cell_type": "code",
   "execution_count": 52,
   "id": "c0629a3d-db91-4038-8516-3602dc0c35a6",
   "metadata": {
    "collapsed": true,
    "jupyter": {
     "outputs_hidden": true
    },
    "tags": []
   },
   "outputs": [
    {
     "name": "stdout",
     "output_type": "stream",
     "text": [
      "Query: MATCH (p:Project {name: 'Underwriting'}), (a:Asset {assetId: '4z8tuhezo5ij68'}) CREATE (p)-[:consumer {comment: 'optimize scalable paradigms',id: '55gvrbzpl9c9w0',reason: 'empower bleeding-edge vortals',status: 'REJECTED',listingId: '44649ilew9wo40',assetId: '4z8tuhezo5ij68',project: 'aj0r6a9dx7m2kw',subproject: '6m5dcvzlipijkg'}]->(a)\n",
      "Query: MATCH (p:Project {name: 'Underwriting'}), (a:Asset {assetId: 'c7ky7hp8xd7spc'}) CREATE (p)-[:consumer {comment: 'synergize impactful vortals',id: 'dix627xvrf918w',reason: 'iterate out-of-the-box experiences',status: 'REJECTED',listingId: 'cq8pyy9y6v1jww',assetId: 'c7ky7hp8xd7spc',project: 'aj0r6a9dx7m2kw',subproject: '6m5dcvzlipijkg'}]->(a)\n",
      "Query: MATCH (p:Project {name: 'Underwriting'}), (a:Asset {assetId: '41btdxlonez1cg'}) CREATE (p)-[:consumer {comment: 'engineer real-time networks',id: '5k1b3c9x7bgbgw',reason: 'productize end-to-end eyeballs',status: 'REJECTED',listingId: 'cgamebu8moik5s',assetId: '41btdxlonez1cg',project: 'aj0r6a9dx7m2kw',subproject: '6m5dcvzlipijkg'}]->(a)\n",
      "Query: MATCH (p:Project {name: 'Underwriting'}), (a:Asset {assetId: 'dbj6xikc9iedu8'}) CREATE (p)-[:consumer {comment: 'empower B2B infrastructures',id: 'dewkkee00rs3kg',reason: 'transition front-end ROI',status: 'REJECTED',listingId: '4g8ch59v40xogg',assetId: 'dbj6xikc9iedu8',project: 'aj0r6a9dx7m2kw',subproject: '6m5dcvzlipijkg'}]->(a)\n",
      "Query: MATCH (p:Project {name: 'Underwriting'}), (a:Asset {assetId: 'al4wdv84krvok0'}) CREATE (p)-[:consumer {comment: 'mesh collaborative experiences',id: 'apui7jct15bllc',reason: 'revolutionize mission-critical applications',status: 'REJECTED',listingId: 'b4wzp66350outs',assetId: 'al4wdv84krvok0',project: 'aj0r6a9dx7m2kw',subproject: '6m5dcvzlipijkg'}]->(a)\n",
      "Query: MATCH (p:Project {name: 'Underwriting'}), (a:Asset {assetId: 'cblhq6mh1js8i8'}) CREATE (p)-[:consumer {comment: 'enhance end-to-end infrastructures',id: 'cf89vvjthb4cnk',reason: 'harness efficient deliverables',status: 'REJECTED',listingId: '4sh3jztbb8u4y8',assetId: 'cblhq6mh1js8i8',project: 'aj0r6a9dx7m2kw',subproject: '6m5dcvzlipijkg'}]->(a)\n",
      "Query: MATCH (p:Project {name: 'Underwriting'}), (a:Asset {assetId: '6g411cjdrahd00'}) CREATE (p)-[:consumer {comment: 'e-enable compelling web-readiness',id: '6o1adep95tir9s',reason: 'aggregate end-to-end synergies',status: 'REJECTED',listingId: '54b48zuawqpwnk',assetId: '6g411cjdrahd00',project: 'aj0r6a9dx7m2kw',subproject: '6m5dcvzlipijkg'}]->(a)\n",
      "Query: MATCH (p:Project {name: 'Underwriting'}), (a:Asset {assetId: 'bqznrh34o3v8gg'}) CREATE (p)-[:consumer {comment: 'engage sticky markets',id: '68l012xvba5zww',reason: 'benchmark next-generation content',status: 'ACCEPTED',listingId: '6g4hpre790wpao',assetId: 'bqznrh34o3v8gg',project: 'aj0r6a9dx7m2kw',subproject: '6m5dcvzlipijkg'}]->(a)\n",
      "Query: MATCH (p:Project {name: 'Underwriting'}), (a:Asset {assetId: 'cvv3byl672y7tc'}) CREATE (p)-[:consumer {comment: 'morph cutting-edge models',id: '4r24h9exmvuz9s',reason: 'whiteboard extensible platforms',status: 'REJECTED',listingId: '6p3ahmrm546as0',assetId: 'cvv3byl672y7tc',project: 'aj0r6a9dx7m2kw',subproject: '6m5dcvzlipijkg'}]->(a)\n",
      "Query: MATCH (p:Project {name: 'Underwriting'}), (a:Asset {assetId: 'deuwu90yct5xxs'}) CREATE (p)-[:consumer {comment: 'disintermediate open-source paradigms',id: 'agubt90yqim8eo',reason: 'innovate proactive initiatives',status: 'REJECTED',listingId: '6p395un5xeyryo',assetId: 'deuwu90yct5xxs',project: 'aj0r6a9dx7m2kw',subproject: '6m5dcvzlipijkg'}]->(a)\n",
      "Query: MATCH (p:Project {name: 'Underwriting'}), (a:Asset {assetId: '5yh8hbfrjlbifk'}) CREATE (p)-[:consumer {comment: 'evolve granular infrastructures',id: 'aljntvo0lvfy4w',reason: 'reinvent bleeding-edge metrics',status: 'REJECTED',listingId: 'attaq7zfc4ntao',assetId: '5yh8hbfrjlbifk',project: 'aj0r6a9dx7m2kw',subproject: '6m5dcvzlipijkg'}]->(a)\n",
      "Query: MATCH (p:Project {name: 'Underwriting'}), (a:Asset {assetId: 'cyh5thnjmu4zyo'}) CREATE (p)-[:consumer {comment: 'seize user-centric web services',id: 'coi6n1bk8faw7k',reason: 'mesh strategic schemas',status: 'REJECTED',listingId: '60trb363jmlguo',assetId: 'cyh5thnjmu4zyo',project: 'aj0r6a9dx7m2kw',subproject: '6m5dcvzlipijkg'}]->(a)\n",
      "Query: MATCH (p:Project {name: 'Underwriting'}), (a:Asset {assetId: '3ycu27ui38cdjk'}) CREATE (p)-[:consumer {comment: 'optimize open-source methodologies',id: '6qlnta608kemxc',reason: 'exploit seamless networks',status: 'REJECTED',listingId: '553qhfg6kgw780',assetId: '3ycu27ui38cdjk',project: 'aj0r6a9dx7m2kw',subproject: '6m5dcvzlipijkg'}]->(a)\n",
      "Query: MATCH (p:Project {name: 'Underwriting'}), (a:Asset {assetId: '64qi4i8rhps2kw'}) CREATE (p)-[:consumer {comment: 'enable killer action-items',id: 'cdqi4ihi96gz9s',reason: 'deliver clicks-and-mortar paradigms',status: 'ACCEPTED',listingId: '3nnjm5089jpl74',assetId: '64qi4i8rhps2kw',project: 'aj0r6a9dx7m2kw',subproject: '6m5dcvzlipijkg'}]->(a)\n",
      "Query: MATCH (p:Project {name: 'Underwriting'}), (a:Asset {assetId: 'bgpw2rxvo09dlc'}) CREATE (p)-[:consumer {comment: 'orchestrate dynamic networks',id: '3uiv0scu58nh1s',reason: 'synergize robust e-tailers',status: 'REJECTED',listingId: 'd3nfnzt9cqwf80',assetId: 'bgpw2rxvo09dlc',project: 'aj0r6a9dx7m2kw',subproject: '6m5dcvzlipijkg'}]->(a)\n",
      "Query: MATCH (p:Project {name: 'Underwriting'}), (a:Asset {assetId: 'ao62hu8b1d5e34'}) CREATE (p)-[:consumer {comment: 'productize ubiquitous solutions',id: 'bl08bq4550m040',reason: 'evolve out-of-the-box infrastructures',status: 'ACCEPTED',listingId: '4i5so7xb27fb4g',assetId: 'ao62hu8b1d5e34',project: 'aj0r6a9dx7m2kw',subproject: '6m5dcvzlipijkg'}]->(a)\n",
      "Query: MATCH (p:Project {name: 'Underwriting'}), (a:Asset {assetId: '6aug1fr8ij8428'}) CREATE (p)-[:consumer {comment: 'enhance bricks-and-clicks relationships',id: 'c8dunlqn99yk5s',reason: 'synthesize sticky networks',status: 'ACCEPTED',listingId: 'cvejk494oq0g7k',assetId: '6aug1fr8ij8428',project: 'cy7ls2lfj0oxsg',subproject: '6m5dcvzlipijkg'}]->(a)\n",
      "Query: MATCH (p:Project {name: 'Underwriting'}), (a:Asset {assetId: 'ciozzuoh3qr4b4'}) CREATE (p)-[:consumer {comment: 'morph distributed portals',id: 'ciyyfrcuolnxxs',reason: 'synthesize transparent supply-chains',status: 'ACCEPTED',listingId: 'cshsgb15zw87m8',assetId: 'ciozzuoh3qr4b4',project: 'cy7ls2lfj0oxsg',subproject: '6m5dcvzlipijkg'}]->(a)\n",
      "Query: MATCH (p:Project {name: 'Underwriting'}), (a:Asset {assetId: '6hznn98v8e487k'}) CREATE (p)-[:consumer {comment: 'evolve granular web services',id: '66s8p0fh5d2ec0',reason: 'enhance B2B functionalities',status: 'ACCEPTED',listingId: '3jtz5dt7cabd3k',assetId: '6hznn98v8e487k',project: 'cy7ls2lfj0oxsg',subproject: '6m5dcvzlipijkg'}]->(a)\n",
      "Query: MATCH (p:Project {name: 'Underwriting'}), (a:Asset {assetId: 'c958jfn8svyl5c'}) CREATE (p)-[:consumer {comment: 'enhance cross-media solutions',id: 'c77lf4vcayp8y8',reason: 'e-enable real-time e-tailers',status: 'REJECTED',listingId: 'cpu6oc758xs00g',assetId: 'c958jfn8svyl5c',project: 'cy7ls2lfj0oxsg',subproject: '6m5dcvzlipijkg'}]->(a)\n",
      "Query: MATCH (p:Project {name: 'Underwriting'}), (a:Asset {assetId: '4w54m87pdp1x8w'}) CREATE (p)-[:consumer {comment: 'benchmark extensible paradigms',id: '6jmfkz80fhzr0w',reason: 'repurpose holistic systems',status: 'REJECTED',listingId: '3w2t1ytdzlsbkg',assetId: '4w54m87pdp1x8w',project: 'cy7ls2lfj0oxsg',subproject: '6m5dcvzlipijkg'}]->(a)\n",
      "Query: MATCH (p:Project {name: 'Underwriting'}), (a:Asset {assetId: '3wc760zczvzllc'}) CREATE (p)-[:consumer {comment: 'disintermediate bleeding-edge applications',id: '4b1ni0qatu45cg',reason: 'grow plug-and-play synergies',status: 'ACCEPTED',listingId: '4lzlsallokfukw',assetId: '3wc760zczvzllc',project: 'cy7ls2lfj0oxsg',subproject: '6m5dcvzlipijkg'}]->(a)\n",
      "Query: MATCH (p:Project {name: 'Underwriting'}), (a:Asset {assetId: 'dg2ahr5vh9wzkg'}) CREATE (p)-[:consumer {comment: 'brand innovative ROI',id: '4ixrnqb8lxrdsg',reason: 're-intermediate integrated content',status: 'REJECTED',listingId: 'cpzmxtz85wvkpc',assetId: 'dg2ahr5vh9wzkg',project: 'cy7ls2lfj0oxsg',subproject: '6m5dcvzlipijkg'}]->(a)\n",
      "Query: MATCH (p:Project {name: 'Underwriting'}), (a:Asset {assetId: 'blsqr4rub7l440'}) CREATE (p)-[:consumer {comment: 'redefine dynamic e-commerce',id: '4socyuohxluya8',reason: 'iterate bricks-and-clicks functionalities',status: 'REJECTED',listingId: '44j3da5hww2weo',assetId: 'blsqr4rub7l440',project: 'cy7ls2lfj0oxsg',subproject: '6m5dcvzlipijkg'}]->(a)\n",
      "Query: MATCH (p:Project {name: 'Underwriting'}), (a:Asset {assetId: 'bj3xau4sjffp8w'}) CREATE (p)-[:consumer {comment: 'cultivate one-to-one solutions',id: 'c9uqbo0vi5t4wg',reason: 'aggregate transparent ROI',status: 'REJECTED',listingId: '6nrihu26j1zits',assetId: 'bj3xau4sjffp8w',project: 'cy7ls2lfj0oxsg',subproject: '6m5dcvzlipijkg'}]->(a)\n",
      "Query: MATCH (p:Project {name: 'Underwriting'}), (a:Asset {assetId: '3xcwudl1n7c9lc'}) CREATE (p)-[:consumer {comment: 'syndicate synergistic bandwidth',id: 'd3hexf1pd530nk',reason: 'benchmark cross-media niches',status: 'REJECTED',listingId: '4y8pq6o3l0llow',assetId: '3xcwudl1n7c9lc',project: 'cy7ls2lfj0oxsg',subproject: '6m5dcvzlipijkg'}]->(a)\n",
      "Query: MATCH (p:Project {name: 'Underwriting'}), (a:Asset {assetId: 'cubnh3vgh7fpqo'}) CREATE (p)-[:consumer {comment: 're-intermediate rich interfaces',id: 'd7z8lf0aseqh00',reason: 'engineer intuitive vortals',status: 'REJECTED',listingId: 'c2c6bf2e1510r4',assetId: 'cubnh3vgh7fpqo',project: 'cy7ls2lfj0oxsg',subproject: '6m5dcvzlipijkg'}]->(a)\n",
      "Query: MATCH (p:Project {name: 'Underwriting'}), (a:Asset {assetId: 'bwscxps9dzqcuo'}) CREATE (p)-[:consumer {comment: 'embrace 24/7 info-mediaries',id: '50zuvboyonryxc',reason: 'streamline killer supply-chains',status: 'REJECTED',listingId: 'dkiq13atqav53k',assetId: 'bwscxps9dzqcuo',project: 'cy7ls2lfj0oxsg',subproject: '6m5dcvzlipijkg'}]->(a)\n",
      "Query: MATCH (p:Project {name: 'Underwriting'}), (a:Asset {assetId: 'd6pqv7l87j8j68'}) CREATE (p)-[:consumer {comment: 'optimize cross-platform technologies',id: '3pypa9by1c658w',reason: 'productize open-source web-readiness',status: 'REJECTED',listingId: 'b2hmp8ed8ajor4',assetId: 'd6pqv7l87j8j68',project: 'cy7ls2lfj0oxsg',subproject: '6m5dcvzlipijkg'}]->(a)\n",
      "Query: MATCH (p:Project {name: 'Underwriting'}), (a:Asset {assetId: 'do39wa5j2nbfo0'}) CREATE (p)-[:consumer {comment: 'extend turn-key models',id: 'czilv07j9omr2o',reason: 'synergize synergistic niches',status: 'REJECTED',listingId: 'djun30ynp2w6ts',assetId: 'do39wa5j2nbfo0',project: 'cy7ls2lfj0oxsg',subproject: '6m5dcvzlipijkg'}]->(a)\n",
      "Query: MATCH (p:Project {name: 'Underwriting'}), (a:Asset {assetId: 'd0zidga50p6vio'}) CREATE (p)-[:consumer {comment: 'whiteboard front-end technologies',id: 'dgvjgmdk0z6ej4',reason: 'engage ubiquitous synergies',status: 'ACCEPTED',listingId: '3hyfe8n2hd82a8',assetId: 'd0zidga50p6vio',project: 'cy7ls2lfj0oxsg',subproject: '6m5dcvzlipijkg'}]->(a)\n",
      "Query: MATCH (p:Project {name: 'Underwriting'}), (a:Asset {assetId: '4w561m1p2lrseo'}) CREATE (p)-[:consumer {comment: 're-intermediate holistic eyeballs',id: 'dlq7mly4d4g6xc',reason: 'evolve dynamic mindshare',status: 'ACCEPTED',listingId: 'az4k2f4ii70tjk',assetId: '4w561m1p2lrseo',project: 'cy7ls2lfj0oxsg',subproject: '6m5dcvzlipijkg'}]->(a)\n",
      "Query: MATCH (p:Project {name: 'Marketing'}), (a:Asset {assetId: 'b1nf23jcdv9its'}) CREATE (p)-[:consumer {comment: 'expedite intuitive markets',id: '4yc68a9rwxrkls',reason: 'unleash proactive paradigms',status: 'REJECTED',listingId: '3k78gbrp29nm6o',assetId: 'b1nf23jcdv9its',project: 'aj0r6a9dx7m2kw',subproject: 'cy7ls2lfj0oxsg'}]->(a)\n",
      "Query: MATCH (p:Project {name: 'Marketing'}), (a:Asset {assetId: '3ypfglhn1wv7dc'}) CREATE (p)-[:consumer {comment: 're-contextualize back-end applications',id: 'bxf8jfj8vf5ua8',reason: 'synergize seamless relationships',status: 'ACCEPTED',listingId: 'bne6mjg71bi49c',assetId: '3ypfglhn1wv7dc',project: 'aj0r6a9dx7m2kw',subproject: 'cy7ls2lfj0oxsg'}]->(a)\n",
      "Query: MATCH (p:Project {name: 'Marketing'}), (a:Asset {assetId: 'buuzvo4x6nuntc'}) CREATE (p)-[:consumer {comment: 'deliver out-of-the-box e-markets',id: '6q0sahg6gsv4ls',reason: 'reinvent ubiquitous supply-chains',status: 'REJECTED',listingId: '5o71h1q1o5mikw',assetId: 'buuzvo4x6nuntc',project: 'aj0r6a9dx7m2kw',subproject: 'cy7ls2lfj0oxsg'}]->(a)\n",
      "Query: MATCH (p:Project {name: 'Marketing'}), (a:Asset {assetId: 'clr2g5nh02c5u8'}) CREATE (p)-[:consumer {comment: 'disintermediate end-to-end experiences',id: 'ak7hq6e6zirnkg',reason: 'monetize dynamic interfaces',status: 'REJECTED',listingId: 'coctfcduofkykw',assetId: 'clr2g5nh02c5u8',project: 'aj0r6a9dx7m2kw',subproject: 'cy7ls2lfj0oxsg'}]->(a)\n",
      "Query: MATCH (p:Project {name: 'Marketing'}), (a:Asset {assetId: '6b0p4t9k1t7fgw'}) CREATE (p)-[:consumer {comment: 'enhance leading-edge metrics',id: '3q1j09ovum5xqo',reason: 'expedite killer deliverables',status: 'REJECTED',listingId: '3nde2a3jciat5c',assetId: '6b0p4t9k1t7fgw',project: 'aj0r6a9dx7m2kw',subproject: 'cy7ls2lfj0oxsg'}]->(a)\n",
      "Query: MATCH (p:Project {name: 'Marketing'}), (a:Asset {assetId: 'aemyk5quxuna8g'}) CREATE (p)-[:consumer {comment: 'transform synergistic methodologies',id: '65ezejc8cwoi34',reason: 'optimize e-business users',status: 'ACCEPTED',listingId: '58jvx3iqxjrmz4',assetId: 'aemyk5quxuna8g',project: 'aj0r6a9dx7m2kw',subproject: 'cy7ls2lfj0oxsg'}]->(a)\n",
      "Query: MATCH (p:Project {name: 'Marketing'}), (a:Asset {assetId: 'bdxnq6p56mnb0w'}) CREATE (p)-[:consumer {comment: 'generate plug-and-play synergies',id: 'bpq1z9lh6jpn2o',reason: 'facilitate viral experiences',status: 'REJECTED',listingId: 'd3uj162tn5uykw',assetId: 'bdxnq6p56mnb0w',project: 'aj0r6a9dx7m2kw',subproject: 'cy7ls2lfj0oxsg'}]->(a)\n",
      "Query: MATCH (p:Project {name: 'Marketing'}), (a:Asset {assetId: '5967nxs5n5ooeo'}) CREATE (p)-[:consumer {comment: 'leverage ubiquitous platforms',id: '6t18gknd3x8phs',reason: 'monetize robust e-tailers',status: 'ACCEPTED',listingId: 'ddqmoz1k10t3ww',assetId: '5967nxs5n5ooeo',project: 'aj0r6a9dx7m2kw',subproject: 'cy7ls2lfj0oxsg'}]->(a)\n",
      "Query: MATCH (p:Project {name: 'Marketing'}), (a:Asset {assetId: 'dog23eu9fupjps'}) CREATE (p)-[:consumer {comment: 'whiteboard impactful users',id: 'bdeoyllq37vd3k',reason: 'engineer holistic convergence',status: 'REJECTED',listingId: 'agsjzxziz4bkeo',assetId: 'dog23eu9fupjps',project: 'aj0r6a9dx7m2kw',subproject: 'cy7ls2lfj0oxsg'}]->(a)\n",
      "Query: MATCH (p:Project {name: 'Marketing'}), (a:Asset {assetId: '4f68yq71dfib9s'}) CREATE (p)-[:consumer {comment: 'seize vertical bandwidth',id: 'dchcfkec4ajdhs',reason: 'envisioneer impactful communities',status: 'REJECTED',listingId: '3uf1bnkgr401sg',assetId: '4f68yq71dfib9s',project: 'aj0r6a9dx7m2kw',subproject: 'cy7ls2lfj0oxsg'}]->(a)\n",
      "Query: MATCH (p:Project {name: 'Marketing'}), (a:Asset {assetId: '6ot0rkw4qysiog'}) CREATE (p)-[:consumer {comment: 'integrate turn-key metrics',id: '614ssw5zys4m8g',reason: 'facilitate ubiquitous metrics',status: 'ACCEPTED',listingId: 'by3zyqgq25pez4',assetId: '6ot0rkw4qysiog',project: 'aj0r6a9dx7m2kw',subproject: 'cy7ls2lfj0oxsg'}]->(a)\n",
      "Query: MATCH (p:Project {name: 'Marketing'}), (a:Asset {assetId: '5ee5q7wewgh9n4'}) CREATE (p)-[:consumer {comment: 'aggregate revolutionary solutions',id: '4pepbeqiw650gg',reason: 'redefine intuitive metrics',status: 'REJECTED',listingId: 'bo19piqmb5ul1s',assetId: '5ee5q7wewgh9n4',project: 'aj0r6a9dx7m2kw',subproject: 'cy7ls2lfj0oxsg'}]->(a)\n",
      "Query: MATCH (p:Project {name: 'Marketing'}), (a:Asset {assetId: 'ak47jn8ag07p1s'}) CREATE (p)-[:consumer {comment: 'benchmark end-to-end paradigms',id: '66mnkvllxryrrk',reason: 'engineer cross-platform functionalities',status: 'REJECTED',listingId: 'bc808gop6tjimo',assetId: 'ak47jn8ag07p1s',project: 'aj0r6a9dx7m2kw',subproject: 'cy7ls2lfj0oxsg'}]->(a)\n",
      "Query: MATCH (p:Project {name: 'Marketing'}), (a:Asset {assetId: 'b2yvmn8739v5sg'}) CREATE (p)-[:consumer {comment: 'iterate visionary eyeballs',id: 'cndp97k73s17yo',reason: 'exploit visionary synergies',status: 'ACCEPTED',listingId: '5z9iopkk6hzq8g',assetId: 'b2yvmn8739v5sg',project: 'aj0r6a9dx7m2kw',subproject: 'cy7ls2lfj0oxsg'}]->(a)\n",
      "Query: MATCH (p:Project {name: 'Marketing'}), (a:Asset {assetId: '3pizvzwog8em8g'}) CREATE (p)-[:consumer {comment: 'extend bricks-and-clicks initiatives',id: '696at9o2i8epsg',reason: 'whiteboard B2C technologies',status: 'REJECTED',listingId: '5s6aevh0wqkz68',assetId: '3pizvzwog8em8g',project: '6m5dcvzlipijkg',subproject: 'cy7ls2lfj0oxsg'}]->(a)\n",
      "Query: MATCH (p:Project {name: 'Marketing'}), (a:Asset {assetId: 'bfhyu5ujd4mljk'}) CREATE (p)-[:consumer {comment: 'target wireless initiatives',id: '5xlibu8sm1oxsg',reason: 'cultivate next-generation models',status: 'ACCEPTED',listingId: '61smt2to356yz4',assetId: 'bfhyu5ujd4mljk',project: '6m5dcvzlipijkg',subproject: 'cy7ls2lfj0oxsg'}]->(a)\n",
      "Query: MATCH (p:Project {name: 'Marketing'}), (a:Asset {assetId: 'av3vprbeb3hhxs'}) CREATE (p)-[:consumer {comment: 'evolve proactive mindshare',id: '5t86rnsg46q2og',reason: 'engineer vertical supply-chains',status: 'REJECTED',listingId: 'b38zth6z53dz4g',assetId: 'av3vprbeb3hhxs',project: '6m5dcvzlipijkg',subproject: 'cy7ls2lfj0oxsg'}]->(a)\n",
      "Query: MATCH (p:Project {name: 'Marketing'}), (a:Asset {assetId: '4sp1pae3i89pn4'}) CREATE (p)-[:consumer {comment: 'evolve one-to-one interfaces',id: '3xlvcp475jm9w0',reason: 'drive transparent bandwidth',status: 'REJECTED',listingId: 'bi1y6ub0bgv21c',assetId: '4sp1pae3i89pn4',project: '6m5dcvzlipijkg',subproject: 'cy7ls2lfj0oxsg'}]->(a)\n",
      "Query: MATCH (p:Project {name: 'Marketing'}), (a:Asset {assetId: 'ar6873r65muh00'}) CREATE (p)-[:consumer {comment: 'maximize collaborative solutions',id: 'aldhqalxfm57yo',reason: 'whiteboard wireless e-business',status: 'REJECTED',listingId: '58muyveqmcqzo0',assetId: 'ar6873r65muh00',project: '6m5dcvzlipijkg',subproject: 'cy7ls2lfj0oxsg'}]->(a)\n",
      "Query: MATCH (p:Project {name: 'Marketing'}), (a:Asset {assetId: 'bmq1td2l1az3bk'}) CREATE (p)-[:consumer {comment: 'expedite user-centric interfaces',id: 'buhmkvoynbz7gw',reason: 'embrace impactful bandwidth',status: 'ACCEPTED',listingId: 'alw710okaf3mvk',assetId: 'bmq1td2l1az3bk',project: '6m5dcvzlipijkg',subproject: 'cy7ls2lfj0oxsg'}]->(a)\n",
      "Query: MATCH (p:Project {name: 'Marketing'}), (a:Asset {assetId: '4lzjgws6fgm8pc'}) CREATE (p)-[:consumer {comment: 'visualize B2B partnerships',id: '5uhxhqvdumu4k0',reason: 'monetize strategic systems',status: 'REJECTED',listingId: 'ddsz4sr42h04k0',assetId: '4lzjgws6fgm8pc',project: '6m5dcvzlipijkg',subproject: 'cy7ls2lfj0oxsg'}]->(a)\n",
      "Query: MATCH (p:Project {name: 'Marketing'}), (a:Asset {assetId: '5rbq8g6e0wnxu8'}) CREATE (p)-[:consumer {comment: 'empower extensible niches',id: '4jryuyh7w32s28',reason: 'drive strategic e-tailers',status: 'REJECTED',listingId: 'bkwnhs4wt0n85s',assetId: '5rbq8g6e0wnxu8',project: '6m5dcvzlipijkg',subproject: 'cy7ls2lfj0oxsg'}]->(a)\n",
      "Query: MATCH (p:Project {name: 'Marketing'}), (a:Asset {assetId: '3ldqlnp3auxrps'}) CREATE (p)-[:consumer {comment: 'unleash best-of-breed deliverables',id: '476qc8mjcoizv4',reason: 'whiteboard frictionless infrastructures',status: 'ACCEPTED',listingId: 'axhphw0gf6h9qo',assetId: '3ldqlnp3auxrps',project: '6m5dcvzlipijkg',subproject: 'cy7ls2lfj0oxsg'}]->(a)\n",
      "Query: MATCH (p:Project {name: 'Marketing'}), (a:Asset {assetId: 'b5645vckuz4l8w'}) CREATE (p)-[:consumer {comment: 'incentivize distributed interfaces',id: 'ba9ht3nvnffz4g',reason: 'enhance seamless applications',status: 'REJECTED',listingId: '6gqcumv5d0n8r4',assetId: 'b5645vckuz4l8w',project: '6m5dcvzlipijkg',subproject: 'cy7ls2lfj0oxsg'}]->(a)\n",
      "Query: MATCH (p:Project {name: 'Marketing'}), (a:Asset {assetId: 'bjw1xx8l77u0pc'}) CREATE (p)-[:consumer {comment: 'repurpose cross-media ROI',id: '667ok01m4ucfbk',reason: 'expedite sticky paradigms',status: 'ACCEPTED',listingId: '60cuebm1infw9c',assetId: 'bjw1xx8l77u0pc',project: '6m5dcvzlipijkg',subproject: 'cy7ls2lfj0oxsg'}]->(a)\n",
      "Query: MATCH (p:Project {name: 'Marketing'}), (a:Asset {assetId: '6f231v3nnz71xs'}) CREATE (p)-[:consumer {comment: 'maximize web-enabled content',id: '5ncf1okvr7ndlc',reason: 'extend extensible users',status: 'REJECTED',listingId: 'd96gfosjnrzkeo',assetId: '6f231v3nnz71xs',project: '6m5dcvzlipijkg',subproject: 'cy7ls2lfj0oxsg'}]->(a)\n",
      "Query: MATCH (p:Project {name: 'Marketing'}), (a:Asset {assetId: '5qsd6ka3n9ebkg'}) CREATE (p)-[:consumer {comment: 'exploit magnetic bandwidth',id: 'c2bpgdin85w6q8',reason: 'embrace global bandwidth',status: 'ACCEPTED',listingId: '4jfskiir3lrv68',assetId: '5qsd6ka3n9ebkg',project: '6m5dcvzlipijkg',subproject: 'cy7ls2lfj0oxsg'}]->(a)\n",
      "Query: MATCH (p:Project {name: 'Marketing'}), (a:Asset {assetId: 'b09utgww6ft9xs'}) CREATE (p)-[:consumer {comment: 'deploy extensible niches',id: '4jfsffpwaplq1c',reason: 're-contextualize cross-media e-markets',status: 'REJECTED',listingId: 'axshoue5cn3mvk',assetId: 'b09utgww6ft9xs',project: '6m5dcvzlipijkg',subproject: 'cy7ls2lfj0oxsg'}]->(a)\n",
      "Query: MATCH (p:Project {name: 'Marketing'}), (a:Asset {assetId: '49pzdu2uzpn2xc'}) CREATE (p)-[:consumer {comment: 'enable user-centric schemas',id: 'c9lotsu2vccgpc',reason: 'strategize impactful vortals',status: 'REJECTED',listingId: '68h4zhg3mk0mc0',assetId: '49pzdu2uzpn2xc',project: '6m5dcvzlipijkg',subproject: 'cy7ls2lfj0oxsg'}]->(a)\n",
      "Query: MATCH (p:Project {name: 'Claims'}), (a:Asset {assetId: 'bhbr6fhbba88b4'}) CREATE (p)-[:consumer {comment: 'exploit clicks-and-mortar e-services',id: '460lye70jd26c0',reason: 'facilitate seamless communities',status: 'ACCEPTED',listingId: '5g0ztao7hli74g',assetId: 'bhbr6fhbba88b4',project: '6m5dcvzlipijkg',subproject: 'aj0r6a9dx7m2kw'}]->(a)\n",
      "Query: MATCH (p:Project {name: 'Claims'}), (a:Asset {assetId: 'be89bliu0y0u4w'}) CREATE (p)-[:consumer {comment: 'iterate innovative convergence',id: '4ck6dxvz0hq2s0',reason: 'deploy sticky users',status: 'ACCEPTED',listingId: '595owblaizaqa8',assetId: 'be89bliu0y0u4w',project: '6m5dcvzlipijkg',subproject: 'aj0r6a9dx7m2kw'}]->(a)\n",
      "Query: MATCH (p:Project {name: 'Claims'}), (a:Asset {assetId: 'bfan5p5km2hoy8'}) CREATE (p)-[:consumer {comment: 'innovate robust e-markets',id: 'dnravz17j1ynio',reason: 'incentivize vertical infrastructures',status: 'REJECTED',listingId: 'cvjewnfsdrow40',assetId: 'bfan5p5km2hoy8',project: '6m5dcvzlipijkg',subproject: 'aj0r6a9dx7m2kw'}]->(a)\n",
      "Query: MATCH (p:Project {name: 'Claims'}), (a:Asset {assetId: '4n0rmgnkysw7io'}) CREATE (p)-[:consumer {comment: 'facilitate value-added e-commerce',id: '5yydrhueurtwy8',reason: 'target killer e-markets',status: 'REJECTED',listingId: 'b08vmjm6p2sy34',assetId: '4n0rmgnkysw7io',project: '6m5dcvzlipijkg',subproject: 'aj0r6a9dx7m2kw'}]->(a)\n",
      "Query: MATCH (p:Project {name: 'Claims'}), (a:Asset {assetId: '3wrclepahir9cg'}) CREATE (p)-[:consumer {comment: 'unleash dynamic mindshare',id: 'bnvpd7ji0z0snk',reason: 'deliver bricks-and-clicks bandwidth',status: 'REJECTED',listingId: 'b9d3lym31tgu8g',assetId: '3wrclepahir9cg',project: '6m5dcvzlipijkg',subproject: 'aj0r6a9dx7m2kw'}]->(a)\n",
      "Query: MATCH (p:Project {name: 'Claims'}), (a:Asset {assetId: '5lqz7wuwabm00g'}) CREATE (p)-[:consumer {comment: 'enhance granular portals',id: '4ctbs8i70qohsg',reason: 'deliver seamless web services',status: 'REJECTED',listingId: 'alu2ekn5da01hs',assetId: '5lqz7wuwabm00g',project: '6m5dcvzlipijkg',subproject: 'aj0r6a9dx7m2kw'}]->(a)\n",
      "Query: MATCH (p:Project {name: 'Claims'}), (a:Asset {assetId: 'b3tnhc7rp95bm8'}) CREATE (p)-[:consumer {comment: 're-contextualize proactive eyeballs',id: 'bh1eb0n86lrgcw',reason: 'incentivize strategic mindshare',status: 'REJECTED',listingId: 'au61t8412dtsb4',assetId: 'b3tnhc7rp95bm8',project: '6m5dcvzlipijkg',subproject: 'aj0r6a9dx7m2kw'}]->(a)\n",
      "Query: MATCH (p:Project {name: 'Claims'}), (a:Asset {assetId: 'de5ui7205r9i1c'}) CREATE (p)-[:consumer {comment: 'e-enable B2B communities',id: 'd65o7z4vlz18uo',reason: 'deploy web-enabled e-tailers',status: 'REJECTED',listingId: '5axd63zd6h5fdc',assetId: 'de5ui7205r9i1c',project: '6m5dcvzlipijkg',subproject: 'aj0r6a9dx7m2kw'}]->(a)\n",
      "Query: MATCH (p:Project {name: 'Claims'}), (a:Asset {assetId: 'azojuthjv30v80'}) CREATE (p)-[:consumer {comment: 'harness frictionless web services',id: 'dr7rod3zyho3yo',reason: 'extend best-of-breed e-business',status: 'REJECTED',listingId: '5jjxsa0rl2tfrk',assetId: 'azojuthjv30v80',project: '6m5dcvzlipijkg',subproject: 'aj0r6a9dx7m2kw'}]->(a)\n",
      "Query: MATCH (p:Project {name: 'Claims'}), (a:Asset {assetId: 'aiu71jfem9m80g'}) CREATE (p)-[:consumer {comment: 'deploy impactful paradigms',id: 'dtfea2vwhbx500',reason: 'maximize user-centric content',status: 'ACCEPTED',listingId: '5xtc6r5djmrehc',assetId: 'aiu71jfem9m80g',project: '6m5dcvzlipijkg',subproject: 'aj0r6a9dx7m2kw'}]->(a)\n",
      "Query: MATCH (p:Project {name: 'Claims'}), (a:Asset {assetId: 'cfnrmc194pthg0'}) CREATE (p)-[:consumer {comment: 'generate rich e-commerce',id: '5fj7vtcmbfl5lc',reason: 'leverage e-business partnerships',status: 'REJECTED',listingId: 'byv9pqkmv804gg',assetId: 'cfnrmc194pthg0',project: '6m5dcvzlipijkg',subproject: 'aj0r6a9dx7m2kw'}]->(a)\n",
      "Query: MATCH (p:Project {name: 'Claims'}), (a:Asset {assetId: '60sbftinmahrbk'}) CREATE (p)-[:consumer {comment: 'grow scalable vortals',id: 'd3ez2g11x6a26o',reason: 'transition sticky markets',status: 'ACCEPTED',listingId: 'ao3uep7dwp880g',assetId: '60sbftinmahrbk',project: '6m5dcvzlipijkg',subproject: 'aj0r6a9dx7m2kw'}]->(a)\n",
      "Query: MATCH (p:Project {name: 'Claims'}), (a:Asset {assetId: 'arq8qiupz3cq6o'}) CREATE (p)-[:consumer {comment: 'orchestrate magnetic niches',id: 'c1n2639hkp5its',reason: 'unleash interactive markets',status: 'REJECTED',listingId: '6mnqo2zjei6kk0',assetId: 'arq8qiupz3cq6o',project: '6m5dcvzlipijkg',subproject: 'aj0r6a9dx7m2kw'}]->(a)\n",
      "Query: MATCH (p:Project {name: 'Claims'}), (a:Asset {assetId: 'd2rh8g4sla2900'}) CREATE (p)-[:consumer {comment: 'aggregate B2C methodologies',id: '5bp8qtmwt7uowg',reason: 'maximize dot-com methodologies',status: 'REJECTED',listingId: 'c5isoi36x2qpao',assetId: 'd2rh8g4sla2900',project: '6m5dcvzlipijkg',subproject: 'aj0r6a9dx7m2kw'}]->(a)\n",
      "Query: MATCH (p:Project {name: 'Claims'}), (a:Asset {assetId: '5lqzfd7mk0s4nk'}) CREATE (p)-[:consumer {comment: 'implement B2C users',id: '3iq13xf6ir7si8',reason: 'revolutionize rich eyeballs',status: 'REJECTED',listingId: 'dk4p1ldcbm4qs0',assetId: '5lqzfd7mk0s4nk',project: '6m5dcvzlipijkg',subproject: 'aj0r6a9dx7m2kw'}]->(a)\n",
      "Query: MATCH (p:Project {name: 'Claims'}), (a:Asset {assetId: 'by52ap35iyzfrk'}) CREATE (p)-[:consumer {comment: 'synergize innovative experiences',id: 'akc9mlc4h9ctqo',reason: 'reinvent killer metrics',status: 'ACCEPTED',listingId: 'd2k4wq51fbtdw0',assetId: 'by52ap35iyzfrk',project: 'cy7ls2lfj0oxsg',subproject: 'aj0r6a9dx7m2kw'}]->(a)\n",
      "Query: MATCH (p:Project {name: 'Claims'}), (a:Asset {assetId: '3iqk1w29tte6q8'}) CREATE (p)-[:consumer {comment: 'e-enable holistic users',id: 'dkw27uaxerqsgg',reason: 'synergize virtual relationships',status: 'REJECTED',listingId: '3tnbbzt98fitn4',assetId: '3iqk1w29tte6q8',project: 'cy7ls2lfj0oxsg',subproject: 'aj0r6a9dx7m2kw'}]->(a)\n",
      "Query: MATCH (p:Project {name: 'Claims'}), (a:Asset {assetId: '3i1hjxj6sbtle8'}) CREATE (p)-[:consumer {comment: 'brand next-generation vortals',id: '4u90ljn6bs68sw',reason: 'facilitate cross-media experiences',status: 'REJECTED',listingId: '5fn2c3h4yp8n0w',assetId: '3i1hjxj6sbtle8',project: 'cy7ls2lfj0oxsg',subproject: 'aj0r6a9dx7m2kw'}]->(a)\n",
      "Query: MATCH (p:Project {name: 'Claims'}), (a:Asset {assetId: '44rj92oxwaolg0'}) CREATE (p)-[:consumer {comment: 'exploit impactful bandwidth',id: 'c78ymygsau19cg',reason: 'deploy seamless markets',status: 'REJECTED',listingId: 'd4ugqe99vzakgg',assetId: '44rj92oxwaolg0',project: 'cy7ls2lfj0oxsg',subproject: 'aj0r6a9dx7m2kw'}]->(a)\n",
      "Query: MATCH (p:Project {name: 'Claims'}), (a:Asset {assetId: 'cjdhqli5c6wqz4'}) CREATE (p)-[:consumer {comment: 'embrace cross-media partnerships',id: '4lzun7tmai7p5c',reason: 'e-enable end-to-end partnerships',status: 'ACCEPTED',listingId: 'b5v8iuna82598w',assetId: 'cjdhqli5c6wqz4',project: 'cy7ls2lfj0oxsg',subproject: 'aj0r6a9dx7m2kw'}]->(a)\n",
      "Query: MATCH (p:Project {name: 'Claims'}), (a:Asset {assetId: '5cuyd8kcp6qf80'}) CREATE (p)-[:consumer {comment: 'cultivate e-business systems',id: 'cfgs5dk9mtrlow',reason: 'cultivate proactive functionalities',status: 'REJECTED',listingId: 'atypkx35bisumo',assetId: '5cuyd8kcp6qf80',project: 'cy7ls2lfj0oxsg',subproject: 'aj0r6a9dx7m2kw'}]->(a)\n",
      "Query: MATCH (p:Project {name: 'Claims'}), (a:Asset {assetId: 'bwgk8at6k2lxjk'}) CREATE (p)-[:consumer {comment: 'redefine best-of-breed methodologies',id: '53qg468ul8z028',reason: 'transform clicks-and-mortar models',status: 'REJECTED',listingId: '5k2cwfb50bw4gg',assetId: 'bwgk8at6k2lxjk',project: 'cy7ls2lfj0oxsg',subproject: 'aj0r6a9dx7m2kw'}]->(a)\n",
      "Query: MATCH (p:Project {name: 'Claims'}), (a:Asset {assetId: '3n2q59598vlle8'}) CREATE (p)-[:consumer {comment: 'deploy holistic deliverables',id: 'ct7hc3n1nq88b4',reason: 'optimize sticky action-items',status: 'REJECTED',listingId: '6ogu6o8e8mo5u8',assetId: '3n2q59598vlle8',project: 'cy7ls2lfj0oxsg',subproject: 'aj0r6a9dx7m2kw'}]->(a)\n",
      "Query: MATCH (p:Project {name: 'Claims'}), (a:Asset {assetId: 'cd5fphuqydwec0'}) CREATE (p)-[:consumer {comment: 'target 24/365 channels',id: '4mhcl2qpwkatcg',reason: 'maximize virtual e-commerce',status: 'REJECTED',listingId: 'b3dqdb4c97721c',assetId: 'cd5fphuqydwec0',project: 'cy7ls2lfj0oxsg',subproject: 'aj0r6a9dx7m2kw'}]->(a)\n",
      "Query: MATCH (p:Project {name: 'Claims'}), (a:Asset {assetId: '3lz5wl9zbeyvww'}) CREATE (p)-[:consumer {comment: 'seize robust schemas',id: '58hlhcrdiyh8k0',reason: 'streamline sticky e-commerce',status: 'REJECTED',listingId: '47dssggg4drrww',assetId: '3lz5wl9zbeyvww',project: 'cy7ls2lfj0oxsg',subproject: 'aj0r6a9dx7m2kw'}]->(a)\n",
      "Query: MATCH (p:Project {name: 'Claims'}), (a:Asset {assetId: '5gtmg2b691kr2o'}) CREATE (p)-[:consumer {comment: 'implement scalable e-commerce',id: 'd392lu9vqke0eo',reason: 'deploy magnetic eyeballs',status: 'REJECTED',listingId: 'c3igbbkiudaf80',assetId: '5gtmg2b691kr2o',project: 'cy7ls2lfj0oxsg',subproject: 'aj0r6a9dx7m2kw'}]->(a)\n",
      "Query: MATCH (p:Project {name: 'Claims'}), (a:Asset {assetId: 'btqqcemx9d0u8g'}) CREATE (p)-[:consumer {comment: 'generate mission-critical relationships',id: 'ay7rhe9yxpquxc',reason: 'embrace cross-platform eyeballs',status: 'REJECTED',listingId: 'do2s0kr4s03g5s',assetId: 'btqqcemx9d0u8g',project: 'cy7ls2lfj0oxsg',subproject: 'aj0r6a9dx7m2kw'}]->(a)\n",
      "Query: MATCH (p:Project {name: 'Claims'}), (a:Asset {assetId: 'd7pt13zbvmsm8g'}) CREATE (p)-[:consumer {comment: 'expedite transparent deliverables',id: 'cv7l4dgepqxhn4',reason: 'transform bricks-and-clicks e-tailers',status: 'REJECTED',listingId: 'dqd3lo47sc4c9c',assetId: 'd7pt13zbvmsm8g',project: 'cy7ls2lfj0oxsg',subproject: 'aj0r6a9dx7m2kw'}]->(a)\n",
      "Query: MATCH (p:Project {name: 'Claims'}), (a:Asset {assetId: '4d7ht4aw373spc'}) CREATE (p)-[:consumer {comment: 'optimize leading-edge web-readiness',id: 'cz6nj8s2zdes9c',reason: 'drive front-end mindshare',status: 'REJECTED',listingId: 'ag59yujxqem4nk',assetId: '4d7ht4aw373spc',project: 'cy7ls2lfj0oxsg',subproject: 'aj0r6a9dx7m2kw'}]->(a)\n"
     ]
    }
   ],
   "source": [
    "with GraphDatabase.driver(uri, auth=(\"username\", \"password\"), encrypted=True) as gdriver:\n",
    "    for s in subs:\n",
    "        proj_name = projects[s['subproject']]\n",
    "        propstr = []\n",
    "        for p in s.keys():\n",
    "            propstr.append(f\"{p}: '{s[p]}'\")\n",
    "        q = \"MATCH (p:Project {name: '\" + proj_name + \"'}), (a:Asset {assetId: '\" + s['assetId'] + \"'}) \" + \\\n",
    "        \"CREATE (p)-[:consumer {\" + \",\".join(propstr) + \"}]->(a)\"\n",
    "        print(f\"Query: {q}\")\n",
    "        gdriver.execute_query(q)"
   ]
  },
  {
   "cell_type": "code",
   "execution_count": 74,
   "id": "4707f0bc-41fe-4ded-ac51-3094d718aa66",
   "metadata": {
    "tags": []
   },
   "outputs": [
    {
     "data": {
      "application/vnd.jupyter.widget-view+json": {
       "model_id": "c1d5917935fd466ea6b232a718a46e87",
       "version_major": 2,
       "version_minor": 0
      },
      "text/plain": [
       "Tab(children=(Output(layout=Layout(max_height='600px', max_width='940px', overflow='scroll')), Force(network=<…"
      ]
     },
     "metadata": {},
     "output_type": "display_data"
    }
   ],
   "source": [
    "%%gremlin -p v,e\n",
    "g.V().has(\"name\", \"Underwriting\").outE().inV().path()"
   ]
  },
  {
   "cell_type": "code",
   "execution_count": 78,
   "id": "3b8574df-bd8c-4025-838d-fc10c4ea0643",
   "metadata": {
    "tags": []
   },
   "outputs": [
    {
     "data": {
      "application/vnd.jupyter.widget-view+json": {
       "model_id": "4afd29cde7a84d6498105727184314a9",
       "version_major": 2,
       "version_minor": 0
      },
      "text/plain": [
       "Tab(children=(Output(layout=Layout(max_height='600px', max_width='940px', overflow='scroll')), Force(network=<…"
      ]
     },
     "metadata": {},
     "output_type": "display_data"
    }
   ],
   "source": [
    "%%gremlin\n",
    "g.V('84e79e21-5f68-40ee-9acd-4c3c1499027d0').valueMap(true)"
   ]
  },
  {
   "cell_type": "markdown",
   "id": "d49010b6-d201-435c-b5e3-3a454204263f",
   "metadata": {},
   "source": [
    "## Graph RAG"
   ]
  },
  {
   "cell_type": "code",
   "execution_count": 55,
   "id": "6dac6f53-386a-4907-98e9-5f873400764d",
   "metadata": {
    "tags": []
   },
   "outputs": [],
   "source": [
    "from langchain_community.graphs import NeptuneGraph\n",
    "\n",
    "host = config['neptune']['endpoint']\n",
    "port = 8182\n",
    "use_https = True\n",
    "\n",
    "graph = NeptuneGraph(host=host, port=port, use_https=use_https)"
   ]
  },
  {
   "cell_type": "code",
   "execution_count": 63,
   "id": "4a6d04d8-66ca-4a26-8c7a-69d860b9dade",
   "metadata": {
    "tags": []
   },
   "outputs": [],
   "source": [
    "from langchain.llms.bedrock import Bedrock\n",
    "from langchain.chains import NeptuneOpenCypherQAChain\n",
    "from langchain_community.chat_models import BedrockChat\n",
    "\n",
    "#modelId = 'anthropic.claude-v2:1' \n",
    "modelId = 'anthropic.claude-3-sonnet-20240229-v1:0'\n",
    "\n",
    "bedrock_runtime = boto3.client(\n",
    "    service_name=\"bedrock-runtime\",\n",
    "    region_name=\"us-west-2\",\n",
    ")\n",
    "\n",
    "model_kwargs =  { \n",
    "    \"max_tokens\": 2048,\n",
    "    \"temperature\": 0.0,\n",
    "    \"top_k\": 250,\n",
    "    \"top_p\": 1,\n",
    "    \"stop_sequences\": [\"\\n\\nHuman\"],\n",
    "}\n",
    "\n",
    "llm = BedrockChat(\n",
    "    client=bedrock_runtime,\n",
    "    model_id=modelId,\n",
    "    model_kwargs=model_kwargs,\n",
    ")"
   ]
  },
  {
   "cell_type": "code",
   "execution_count": 64,
   "id": "28595b2b-7894-4567-af17-a9bd6d3acc84",
   "metadata": {
    "tags": []
   },
   "outputs": [],
   "source": [
    "chain = NeptuneOpenCypherQAChain.from_llm(llm = llm, graph=graph,verbose=True,)"
   ]
  },
  {
   "cell_type": "code",
   "execution_count": 65,
   "id": "84f635db-be60-4c62-89c9-e351c1e5ae81",
   "metadata": {
    "tags": []
   },
   "outputs": [
    {
     "name": "stdout",
     "output_type": "stream",
     "text": [
      "\n",
      "\n",
      "\u001b[1m> Entering new NeptuneOpenCypherQAChain chain...\u001b[0m\n",
      "Generated Cypher:\n",
      "\u001b[32;1m\u001b[1;3mMATCH (p:Project)-[c:consumer]->(a:Asset)\n",
      "WHERE c.status = 'REJECTED'\n",
      "WITH p, count(c) as connections\n",
      "RETURN p.name, connections\n",
      "ORDER BY connections DESC\n",
      "LIMIT 1\n",
      "\u001b[0m\n",
      "Full Context:\n",
      "\u001b[32;1m\u001b[1;3m[{'p.name': 'Claims', 'connections': 11}]\u001b[0m\n",
      "\n",
      "\u001b[1m> Finished chain.\u001b[0m\n"
     ]
    },
    {
     "data": {
      "text/plain": [
       "\"The project with the name 'Claims' has 11 connections.\""
      ]
     },
     "execution_count": 65,
     "metadata": {},
     "output_type": "execute_result"
    }
   ],
   "source": [
    "chain.run(\"Which project has the most connections to assets with the connection role set to 'consumer' and a status of 'REJECTED'?\")"
   ]
  },
  {
   "cell_type": "code",
   "execution_count": 66,
   "id": "3ba6a2b2-c918-4f71-8df5-b98194a0681e",
   "metadata": {
    "tags": []
   },
   "outputs": [
    {
     "name": "stdout",
     "output_type": "stream",
     "text": [
      "\n",
      "\n",
      "\u001b[1m> Entering new NeptuneOpenCypherQAChain chain...\u001b[0m\n",
      "Generated Cypher:\n",
      "\u001b[32;1m\u001b[1;3mMATCH (p:Project)-[r]->(a:Asset)\n",
      "RETURN p.name, count(r) AS connections\n",
      "ORDER BY connections DESC;\n",
      "\u001b[0m\n",
      "Full Context:\n",
      "\u001b[32;1m\u001b[1;3m[{'p.name': 'Marketing', 'connections': 25}, {'p.name': 'Underwriting', 'connections': 13}, {'p.name': 'Claims', 'connections': 12}]\u001b[0m\n",
      "\n",
      "\u001b[1m> Finished chain.\u001b[0m\n"
     ]
    },
    {
     "data": {
      "text/plain": [
       "'The Marketing Project has 25 connections to Assets, the Underwriting Project has 13 connections to Assets, and the Claims Project has 12 connections to Assets.'"
      ]
     },
     "execution_count": 66,
     "metadata": {},
     "output_type": "execute_result"
    }
   ],
   "source": [
    "chain.run(\"How many connections does each Project have to an Asset?\")"
   ]
  },
  {
   "cell_type": "code",
   "execution_count": 79,
   "id": "5a000b50-5568-4c3b-8410-503b33dc0ff5",
   "metadata": {
    "tags": []
   },
   "outputs": [
    {
     "name": "stdout",
     "output_type": "stream",
     "text": [
      "\n",
      "\n",
      "\u001b[1m> Entering new NeptuneOpenCypherQAChain chain...\u001b[0m\n",
      "Generated Cypher:\n",
      "\u001b[32;1m\u001b[1;3mMATCH (p:Project)-[c:consumer]->(a:Asset {name: 'ShawnaMarketingAssetType6'})\n",
      "WHERE p.name = 'Underwriting'\n",
      "RETURN c.status, count(*) AS count\n",
      "ORDER BY count DESC\n",
      "LIMIT 1\n",
      "\u001b[0m\n",
      "Full Context:\n",
      "\u001b[32;1m\u001b[1;3m[{'c.status': 'REJECTED', 'count': 1}]\u001b[0m\n",
      "\n",
      "\u001b[1m> Finished chain.\u001b[0m\n"
     ]
    },
    {
     "data": {
      "text/plain": [
       "'Based on the provided information, consumer connection requests from the Underwriting department to the asset named ShawnaMarketingAssetType6 usually get rejected.'"
      ]
     },
     "execution_count": 79,
     "metadata": {},
     "output_type": "execute_result"
    }
   ],
   "source": [
    "chain.run(\"Do consumer connection requests from the Underwriting department to the asset named ShawnaMarketingAssetType6 usually get rejected or accepted?\")"
   ]
  },
  {
   "cell_type": "code",
   "execution_count": null,
   "id": "678466c9-265f-4a9c-ab69-254577cc8e0a",
   "metadata": {},
   "outputs": [],
   "source": []
  }
 ],
 "metadata": {
  "kernelspec": {
   "display_name": "Python 3",
   "language": "python",
   "name": "python3"
  },
  "language_info": {
   "codemirror_mode": {
    "name": "ipython",
    "version": 3
   },
   "file_extension": ".py",
   "mimetype": "text/x-python",
   "name": "python",
   "nbconvert_exporter": "python",
   "pygments_lexer": "ipython3",
   "version": "3.10.8"
  }
 },
 "nbformat": 4,
 "nbformat_minor": 5
}
